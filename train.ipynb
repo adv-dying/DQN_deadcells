{
 "cells": [
  {
   "cell_type": "code",
   "execution_count": 1,
   "metadata": {},
   "outputs": [
    {
     "name": "stdout",
     "output_type": "stream",
     "text": [
      "torch.Size([1, 4, 270, 480])\n"
     ]
    }
   ],
   "source": [
    "from model import DQN\n",
    "import numpy as np\n",
    "import collections\n",
    "import torch\n",
    "import torch.nn as nn\n",
    "import torch.optim as optim\n",
    "from lib import GetScreen, Actions, env, GetHp\n",
    "import pickle\n",
    "import copy\n",
    "\n",
    "\n",
    "from tensorboardX import SummaryWriter\n",
    "import time\n",
    "import random\n",
    "import pickle\n",
    "\n",
    "import torch.backends.cudnn as cudnn\n",
    "\n",
    "cudnn.deterministic = True\n",
    "\n",
    "cudnn.benchmark = True\n",
    "torch.backends.cudnn.enabled = True\n",
    "\n",
    "\n",
    "\n"
   ]
  },
  {
   "cell_type": "code",
   "execution_count": 2,
   "metadata": {},
   "outputs": [],
   "source": [
    "GAMMA = 0.99\n",
    "MAX_EPISODE = int(input('play_turn:'))\n",
    "ESC = 0x1B\n",
    "\n",
    "epsilon_final = 0.02\n",
    "epsilon_decay_frame = 10**5\n",
    "replay_min_size = 2000\n",
    "batch_size = 32\n",
    "device = \"cuda\"\n",
    "epsilon_start = 1.0"
   ]
  },
  {
   "cell_type": "code",
   "execution_count": 3,
   "metadata": {},
   "outputs": [],
   "source": [
    "\n",
    "Experience = collections.namedtuple(\n",
    "    \"Experience\", field_names=[\"state\", \"action\", \"reward\", \"done\", \"new_state\"]\n",
    ")\n",
    "\n",
    "\n",
    "class ExperienceBuffer:\n",
    "    def __init__(self, capacity):\n",
    "        self.buffer = collections.deque(maxlen=capacity)\n",
    "\n",
    "    def __len__(self):\n",
    "        return len(self.buffer)\n",
    "\n",
    "    def append(self, experience):\n",
    "        self.buffer.append(experience)\n",
    "\n",
    "    def sample(self, batch_size):\n",
    "        indices = np.random.choice(len(self.buffer), batch_size, replace=False)\n",
    "        state, action, reward, dones, next_state = zip(\n",
    "            *[self.buffer[idx] for idx in indices]\n",
    "        )\n",
    "        return (\n",
    "            torch.stack(state),\n",
    "            np.array(action),\n",
    "            np.array(reward, dtype=np.float32),\n",
    "            np.array(dones, dtype=np.bool8),\n",
    "            torch.stack(next_state),\n",
    "        )\n",
    "\n"
   ]
  },
  {
   "cell_type": "code",
   "execution_count": 4,
   "metadata": {},
   "outputs": [],
   "source": [
    "# self.hp=15482\n",
    "# boss.hp=215249\n",
    "# 15 7 7\n",
    "class Agent:\n",
    "    def __init__(self, exp_buffer):\n",
    "        self.buffer = exp_buffer\n",
    "        self.get_screen = GetScreen.GetScreen()\n",
    "        self.total_rewards = 0.0\n",
    "        self.env = env.env()\n",
    "        self.hpgetter = GetHp.Hp_getter()\n",
    "        self.criterion = nn.SmoothL1Loss()\n",
    "        # self._reset()\n",
    "\n",
    "    def _reset(self):\n",
    "        self.env._reset()\n",
    "        self.state = self.get_screen.grab()\n",
    "        self.total_rewards = 0.0\n",
    "        self.bosshp = self.hpgetter.get_boss_hp()\n",
    "        self.playerhp = self.hpgetter.get_self_hp()\n",
    "\n",
    "    def play_step(self, net, epsilon, device=\"cuda\"):\n",
    "        done_reward = None\n",
    "\n",
    "        if np.random.random() < epsilon:\n",
    "            action = random.randint(0, 6)\n",
    "\n",
    "        else:\n",
    "            q_val_v = net(self.state)\n",
    "            _, act_v = torch.max(q_val_v, dim=1)\n",
    "            action = int(act_v[0].item())\n",
    "\n",
    "        # Actions = [Attack,Shield, Roll, Jump, Move_Left, Move_Right, Nothing]\n",
    "        reward, is_done, self.playerhp, self.bosshp = self.env.step(\n",
    "            action, self.playerhp, self.bosshp\n",
    "        )\n",
    "        if reward!=0:\n",
    "            print(\"reward:%.2f,bosshp:%d,selfhp:%d \" % (reward, self.bosshp,self.playerhp),end='\\r')\n",
    "        new_state = self.get_screen.grab()\n",
    "        self.total_rewards += reward\n",
    "\n",
    "        exp = Experience(self.state, action, reward, is_done, new_state)\n",
    "        self.buffer.append(exp)\n",
    "\n",
    "        self.state = new_state\n",
    "\n",
    "        if is_done:\n",
    "            Actions.Nothing()\n",
    "            done_reward = self.total_rewards\n",
    "            # print(\"reward:%.2f\" % (done_reward), end='\\r')\n",
    "            time.sleep(11)\n",
    "\n",
    "        return done_reward\n",
    "\n",
    "    def cal_loss(self, batch, net, tgt_net, device=\"cuda\"):\n",
    "        state, action, reward, done, next_state = batch\n",
    "\n",
    "        state_v = torch.squeeze(state, 1).to(device)\n",
    "        action_v = torch.tensor(action).to(device)\n",
    "        reward_v = torch.tensor(reward).to(device)\n",
    "        next_state_v = torch.squeeze(next_state, 1).to(device)\n",
    "\n",
    "        state_action_value = (\n",
    "            net(state_v).gather(\n",
    "                1, action_v.unsqueeze(-1).type(torch.long)).squeeze(-1)\n",
    "        )\n",
    "\n",
    "        next_state_value = tgt_net(next_state_v).max(1)[0]\n",
    "        next_state_value[done] = 0.0\n",
    "        next_state_value = next_state_value.detach()\n",
    "        expected_state_action = next_state_value * GAMMA + reward_v\n",
    "        return self.criterion(state_action_value, expected_state_action)"
   ]
  },
  {
   "cell_type": "code",
   "execution_count": 5,
   "metadata": {},
   "outputs": [
    {
     "name": "stdout",
     "output_type": "stream",
     "text": [
      "254512\n",
      "load model\n"
     ]
    },
    {
     "name": "stderr",
     "output_type": "stream",
     "text": [
      "C:\\Users\\64698\\AppData\\Local\\Temp\\ipykernel_13356\\3464269769.py:5: FutureWarning: You are using `torch.load` with `weights_only=False` (the current default value), which uses the default pickle module implicitly. It is possible to construct malicious pickle data which will execute arbitrary code during unpickling (See https://github.com/pytorch/pytorch/blob/main/SECURITY.md#untrusted-models for more details). In a future release, the default value for `weights_only` will be flipped to `True`. This limits the functions that could be executed during unpickling. Arbitrary objects will no longer be allowed to be loaded via this mode unless they are explicitly allowlisted by the user via `torch.serialization.add_safe_globals`. We recommend you start setting `weights_only=True` for any use case where you don't have full control of the loaded file. Please open an issue on GitHub for any issues related to this experimental feature.\n",
      "  net.load_state_dict(torch.load(\"./checkpoints/best_model.pt\"))\n"
     ]
    }
   ],
   "source": [
    "net = DQN(7).to(device)\n",
    "tgt_net = DQN(7).to(device)\n",
    "# load the model\n",
    "try:\n",
    "    net.load_state_dict(torch.load(\"./checkpoints/best_model.pt\"))\n",
    "    frame_idx = np.load(\"./checkpoints/frame.npy\")\n",
    "    tgt_net.load_state_dict(net.state_dict())\n",
    "    print(frame_idx)\n",
    "    print(\"load model\")\n",
    "except:\n",
    "    # if not, set epsilon\n",
    "    frame_idx = 0\n",
    "    print(\"new model\")\n",
    "\n",
    "optimizer = optim.Adam(net.parameters(), lr=0.001)\n",
    "\n",
    "writer = SummaryWriter(comment=\"deadcells\")\n",
    "\n"
   ]
  },
  {
   "cell_type": "code",
   "execution_count": 6,
   "metadata": {},
   "outputs": [
    {
     "name": "stdout",
     "output_type": "stream",
     "text": [
      "load buffer\n"
     ]
    }
   ],
   "source": [
    "# try to load the before buffer\n",
    "try:\n",
    "    with open(\"./checkpoints/buffer.pickle\", \"rb\") as f:\n",
    "        buffer = pickle.load(f)\n",
    "    print(\"load buffer\")\n",
    "except:\n",
    "    buffer = ExperienceBuffer(capacity=2000)\n",
    "    print(\"new buffer\")\n"
   ]
  },
  {
   "cell_type": "code",
   "execution_count": 7,
   "metadata": {},
   "outputs": [
    {
     "name": "stdout",
     "output_type": "stream",
     "text": [
      "You already created a DXCamera Instance for Device 0--Output 0!\n",
      "Returning the existed instance...\n",
      "To change capture parameters you can manually delete the old object using `del obj`.\n"
     ]
    }
   ],
   "source": [
    "agent = Agent(buffer)"
   ]
  },
  {
   "cell_type": "code",
   "execution_count": 8,
   "metadata": {},
   "outputs": [
    {
     "name": "stdout",
     "output_type": "stream",
     "text": [
      "tensor(0.0582, device='cuda:0', grad_fn=<SmoothL1LossBackward0>).02\r"
     ]
    },
    {
     "ename": "KeyboardInterrupt",
     "evalue": "",
     "output_type": "error",
     "traceback": [
      "\u001b[1;31m---------------------------------------------------------------------------\u001b[0m",
      "\u001b[1;31mKeyboardInterrupt\u001b[0m                         Traceback (most recent call last)",
      "Cell \u001b[1;32mIn[8], line 24\u001b[0m\n\u001b[0;32m     22\u001b[0m optimizer\u001b[38;5;241m.\u001b[39mzero_grad()\n\u001b[0;32m     23\u001b[0m batch \u001b[38;5;241m=\u001b[39m buffer\u001b[38;5;241m.\u001b[39msample(batch_size)\n\u001b[1;32m---> 24\u001b[0m loss_t \u001b[38;5;241m=\u001b[39m \u001b[43magent\u001b[49m\u001b[38;5;241;43m.\u001b[39;49m\u001b[43mcal_loss\u001b[49m\u001b[43m(\u001b[49m\u001b[43mbatch\u001b[49m\u001b[43m,\u001b[49m\u001b[43m \u001b[49m\u001b[43mnet\u001b[49m\u001b[43m,\u001b[49m\u001b[43m \u001b[49m\u001b[43mtgt_net\u001b[49m\u001b[43m)\u001b[49m\n\u001b[0;32m     25\u001b[0m \u001b[38;5;28mprint\u001b[39m(loss_t,end\u001b[38;5;241m=\u001b[39m\u001b[38;5;124m'\u001b[39m\u001b[38;5;130;01m\\r\u001b[39;00m\u001b[38;5;124m'\u001b[39m)\n\u001b[0;32m     26\u001b[0m loss_t\u001b[38;5;241m.\u001b[39mbackward()\n",
      "Cell \u001b[1;32mIn[4], line 58\u001b[0m, in \u001b[0;36mAgent.cal_loss\u001b[1;34m(self, batch, net, tgt_net, device)\u001b[0m\n\u001b[0;32m     55\u001b[0m state, action, reward, done, next_state \u001b[38;5;241m=\u001b[39m batch\n\u001b[0;32m     57\u001b[0m state_v \u001b[38;5;241m=\u001b[39m torch\u001b[38;5;241m.\u001b[39msqueeze(state, \u001b[38;5;241m1\u001b[39m)\u001b[38;5;241m.\u001b[39mto(device)\n\u001b[1;32m---> 58\u001b[0m action_v \u001b[38;5;241m=\u001b[39m \u001b[43mtorch\u001b[49m\u001b[38;5;241;43m.\u001b[39;49m\u001b[43mtensor\u001b[49m\u001b[43m(\u001b[49m\u001b[43maction\u001b[49m\u001b[43m)\u001b[49m\u001b[38;5;241;43m.\u001b[39;49m\u001b[43mto\u001b[49m\u001b[43m(\u001b[49m\u001b[43mdevice\u001b[49m\u001b[43m)\u001b[49m\n\u001b[0;32m     59\u001b[0m reward_v \u001b[38;5;241m=\u001b[39m torch\u001b[38;5;241m.\u001b[39mtensor(reward)\u001b[38;5;241m.\u001b[39mto(device)\n\u001b[0;32m     60\u001b[0m next_state_v \u001b[38;5;241m=\u001b[39m torch\u001b[38;5;241m.\u001b[39msqueeze(next_state, \u001b[38;5;241m1\u001b[39m)\u001b[38;5;241m.\u001b[39mto(device)\n",
      "\u001b[1;31mKeyboardInterrupt\u001b[0m: "
     ]
    }
   ],
   "source": [
    "\n",
    "total_rewards = []\n",
    "best_mean_reward = None\n",
    "reward = None\n",
    "\n",
    "# numbers of game\n",
    "time_start=time.time()\n",
    "agent._reset()\n",
    "\n",
    "\n",
    "while len(total_rewards) < MAX_EPISODE:\n",
    "    frame_idx += 1\n",
    "    epsilon = max(epsilon_final, epsilon_start - frame_idx / epsilon_decay_frame)\n",
    "\n",
    "    if reward is not None:\n",
    "        # one loop ends\n",
    "        # if something goes wrong, break\n",
    "        \n",
    "        total_rewards.append(reward)\n",
    "        mean_reward = np.mean(total_rewards[-100:])\n",
    "        if len(buffer) >= replay_min_size:\n",
    "            for _ in range(100):\n",
    "                optimizer.zero_grad()\n",
    "                batch = buffer.sample(batch_size)\n",
    "                loss_t = agent.cal_loss(batch, net, tgt_net)\n",
    "                print(loss_t,end='\\r')\n",
    "                loss_t.backward()\n",
    "                optimizer.step()\n",
    "            writer.add_scalar(\"loss\", loss_t, frame_idx)\n",
    "        print(\n",
    "            \"lenbuffer:%d,frame:%d game:%d, mean reward: %.3f, eps:%.2f\"\n",
    "            % (len(buffer),frame_idx, len(total_rewards), mean_reward, epsilon), end='\\r'\n",
    "        )\n",
    "        #     print(x, end='\\r')\n",
    "        # print()\n",
    "        writer.add_scalar(\"epsilon\", epsilon, frame_idx)\n",
    "        writer.add_scalar(\"reward_100\", mean_reward, frame_idx)\n",
    "        writer.add_scalar(\"reward\", reward, frame_idx)\n",
    "        \n",
    "        # save model\n",
    "        if best_mean_reward is None or best_mean_reward < mean_reward:\n",
    "            torch.save(net.state_dict(), \"./checkpoints/best_model.pt\")\n",
    "\n",
    "            if best_mean_reward is not None:\n",
    "                print(\n",
    "                    \"Best mean reward updated %.3f -> %.3f, model saved\"\n",
    "                    % (best_mean_reward, mean_reward),end='\\r'\n",
    "                )\n",
    "            best_mean_reward = mean_reward\n",
    "\n",
    "        np.save(\"./checkpoints/frame.npy\", frame_idx)\n",
    "        if frame_idx % 10000 == 0:\n",
    "            tgt_net.load_state_dict(net.state_dict())\n",
    "\n",
    "        # save buffer\n",
    "        with open(\"./checkpoints/buffer.pickle\", \"wb\") as f:\n",
    "            pickle.dump(copy.deepcopy(buffer), f)\n",
    "        # reset game\n",
    "        agent._reset()\n",
    "        # if for some random reason that agent do not enter the boss region\n",
    "        if not agent.hpgetter.get_boss_hp():\n",
    "            time.sleep(1)\n",
    "            Actions.Move_Right()\n",
    "            time.sleep(8)\n",
    "            Actions.Nothing()\n",
    "            Actions.Move_Left()\n",
    "            time.sleep(5.5)\n",
    "            Actions.Nothing()\n",
    "            agent._reset()\n",
    "    # step between copy the net to tgt_net\n",
    "    reward = agent.play_step(net, epsilon, device)\n",
    "        # optimize\n",
    "    \n",
    "\n",
    "\n",
    "writer.close()\n",
    "print(time.localtime())\n",
    "print((time.time()-time_start)/60)"
   ]
  },
  {
   "cell_type": "code",
   "execution_count": 9,
   "metadata": {},
   "outputs": [],
   "source": [
    "agent.get_screen.show()"
   ]
  }
 ],
 "metadata": {
  "kernelspec": {
   "display_name": "DQN",
   "language": "python",
   "name": "python3"
  },
  "language_info": {
   "codemirror_mode": {
    "name": "ipython",
    "version": 3
   },
   "file_extension": ".py",
   "mimetype": "text/x-python",
   "name": "python",
   "nbconvert_exporter": "python",
   "pygments_lexer": "ipython3",
   "version": "3.9.21"
  },
  "orig_nbformat": 4
 },
 "nbformat": 4,
 "nbformat_minor": 2
}
