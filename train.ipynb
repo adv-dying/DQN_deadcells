{
 "cells": [
  {
   "cell_type": "code",
   "execution_count": 1,
   "metadata": {},
   "outputs": [],
   "source": [
    "import math\n",
    "import pygetwindow\n",
    "from model import DQN\n",
    "import numpy as np\n",
    "import collections\n",
    "import torch\n",
    "import torch.nn as nn\n",
    "import torch.optim as optim\n",
    "from lib import GetScreen, Actions, env, GetHp\n",
    "import pickle\n",
    "import copy\n",
    "import os\n",
    "import shutil\n",
    "\n",
    "# from tensorboardX import SummaryWriter\n",
    "from torch.utils.tensorboard import SummaryWriter\n",
    "import time\n",
    "import random\n",
    "import pickle\n",
    "\n",
    "import torch.backends.cudnn as cudnn\n",
    "\n",
    "cudnn.deterministic = True\n",
    "\n",
    "cudnn.benchmark = True\n",
    "torch.backends.cudnn.enabled = True"
   ]
  },
  {
   "cell_type": "code",
   "execution_count": 2,
   "metadata": {},
   "outputs": [],
   "source": [
    "writepath = 'runs/dueling_double_DQN_batch128_decay10000_lr1e-5_hardupdate_100_gradient_limit_10'\n",
    "if os.path.exists(writepath):\n",
    "    shutil.rmtree(writepath)\n",
    "writer = SummaryWriter(log_dir=writepath)"
   ]
  },
  {
   "cell_type": "code",
   "execution_count": 3,
   "metadata": {},
   "outputs": [],
   "source": [
    "BATCH_SIZE = 128\n",
    "GAMMA = 0.99\n",
    "EPS_START = 0.9\n",
    "EPS_END = 0.05\n",
    "EPS_DECAY = 10000\n",
    "# TAU = 0.005\n",
    "\n",
    "LR = 1e-5\n",
    "device = 'cuda'"
   ]
  },
  {
   "cell_type": "code",
   "execution_count": 4,
   "metadata": {},
   "outputs": [],
   "source": [
    "\n",
    "Experience = collections.namedtuple(\n",
    "    \"Experience\", field_names=[\"state\", \"action\", \"reward\", \"done\", \"new_state\"]\n",
    ")\n",
    "\n",
    "\n",
    "class ExperienceBuffer:\n",
    "    def __init__(self, capacity):\n",
    "        self.buffer = collections.deque(maxlen=capacity)\n",
    "\n",
    "    def __len__(self):\n",
    "        return len(self.buffer)\n",
    "\n",
    "    def append(self, experience):\n",
    "        self.buffer.append(experience)\n",
    "\n",
    "    def sample(self, batch_size):\n",
    "        indices = np.random.choice(len(self.buffer), batch_size, replace=False)\n",
    "        state, action, reward, dones, next_state = zip(\n",
    "            *[self.buffer[idx] for idx in indices]\n",
    "        )\n",
    "        return (\n",
    "            torch.stack(state),\n",
    "            np.array(action),\n",
    "            np.array(reward, dtype=np.float32),\n",
    "            np.array(dones, dtype=np.bool8),\n",
    "            torch.stack(next_state),\n",
    "        )"
   ]
  },
  {
   "cell_type": "code",
   "execution_count": 5,
   "metadata": {},
   "outputs": [
    {
     "name": "stdout",
     "output_type": "stream",
     "text": [
      "new model\n"
     ]
    },
    {
     "name": "stderr",
     "output_type": "stream",
     "text": [
      "C:\\Users\\64698\\AppData\\Local\\Temp\\ipykernel_34616\\3922709733.py:5: FutureWarning: You are using `torch.load` with `weights_only=False` (the current default value), which uses the default pickle module implicitly. It is possible to construct malicious pickle data which will execute arbitrary code during unpickling (See https://github.com/pytorch/pytorch/blob/main/SECURITY.md#untrusted-models for more details). In a future release, the default value for `weights_only` will be flipped to `True`. This limits the functions that could be executed during unpickling. Arbitrary objects will no longer be allowed to be loaded via this mode unless they are explicitly allowlisted by the user via `torch.serialization.add_safe_globals`. We recommend you start setting `weights_only=True` for any use case where you don't have full control of the loaded file. Please open an issue on GitHub for any issues related to this experimental feature.\n",
      "  net.load_state_dict(torch.load(\"./checkpoints/best_model.pt\"))\n"
     ]
    }
   ],
   "source": [
    "net = DQN(7).to(device)\n",
    "tgt_net = DQN(7).to(device)\n",
    "# load the model\n",
    "try:\n",
    "    net.load_state_dict(torch.load(\"./checkpoints/best_model.pt\"))\n",
    "    frame_idx = int(np.load(\"./checkpoints/frame.npy\"))\n",
    "    total_rewards = np.load(\"./checkpoints/total_rewards.npy\")\n",
    "    total_rewards = total_rewards.tolist()\n",
    "    tgt_net.load_state_dict(net.state_dict())\n",
    "    print(frame_idx)\n",
    "    print(\"load model\")\n",
    "except:\n",
    "    # if not, set epsilon\n",
    "    frame_idx = 0\n",
    "    total_rewards = []\n",
    "    print(\"new model\")\n",
    "\n",
    "optimizer = optim.Adam(net.parameters(), lr=LR, weight_decay=1e-5)\n",
    "preframe_idx = frame_idx\n"
   ]
  },
  {
   "cell_type": "code",
   "execution_count": 6,
   "metadata": {},
   "outputs": [
    {
     "name": "stdout",
     "output_type": "stream",
     "text": [
      "new buffer\n"
     ]
    }
   ],
   "source": [
    "# try to load the before buffer\n",
    "try:\n",
    "    with open(\"./checkpoints/buffer.pickle\", \"rb\") as f:\n",
    "        buffer = pickle.load(f)\n",
    "    print(\"load buffer\")\n",
    "except:\n",
    "    buffer = ExperienceBuffer(capacity=10000)\n",
    "    print(\"new buffer\")"
   ]
  },
  {
   "cell_type": "code",
   "execution_count": 7,
   "metadata": {},
   "outputs": [],
   "source": [
    "# self.hp=15482\n",
    "# boss.hp=215249\n",
    "# 15 7 7\n",
    "class Agent:\n",
    "    def __init__(self, exp_buffer):\n",
    "        self.buffer = exp_buffer\n",
    "        self.get_screen = GetScreen.GetScreen()\n",
    "        self.total_rewards = 0.0\n",
    "        self.env = env.env()\n",
    "        self.hpgetter = GetHp.Hp_getter()\n",
    "        self.criterion = nn.SmoothL1Loss()\n",
    "\n",
    "        self.min_reward = -0.01\n",
    "        self.max_reward = 0.01\n",
    "        # self._reset()\n",
    "\n",
    "    def _reset(self):\n",
    "        self.env._reset()\n",
    "        self.state = self.get_screen.grab()\n",
    "        self.total_rewards = 0.0\n",
    "        self.bosshp = self.hpgetter.get_boss_hp()\n",
    "        self.playerhp = self.hpgetter.get_self_hp()\n",
    "\n",
    "    def play_step(self, net, epsilon, device=\"cuda\"):\n",
    "        done_reward = None\n",
    "\n",
    "        if np.random.random() < epsilon:\n",
    "            action = random.randint(0, 6)\n",
    "\n",
    "        else:\n",
    "            q_val_v = net(self.state.unsqueeze(0))\n",
    "            _, act_v = torch.max(q_val_v, dim=1)\n",
    "            action = int(act_v[0].item())\n",
    "\n",
    "        # Actions = [Attack,Shield, Roll, Jump, Move_Left, Move_Right, Nothing]\n",
    "        reward, is_done, self.playerhp, self.bosshp = self.env.step(\n",
    "            action, self.playerhp, self.bosshp\n",
    "        )\n",
    "        self.min_reward = min(self.min_reward, reward)\n",
    "        self.max_reward = max(self.max_reward, reward)\n",
    "        if reward != 0:\n",
    "            print(\"reward:%.2f,bosshp:%d,selfhp:%d,min:%.2f, max:%.2f \" %\n",
    "                  (reward, self.bosshp, self.playerhp, self.min_reward, self.max_reward), end='\\r')\n",
    "        new_state = self.get_screen.grab()\n",
    "        self.total_rewards += reward\n",
    "\n",
    "        normalize_reward = (reward - self.min_reward) / \\\n",
    "            (self.max_reward - self.min_reward)\n",
    "        exp = Experience(self.state, action,\n",
    "                         normalize_reward, is_done, new_state)\n",
    "        self.buffer.append(exp)\n",
    "\n",
    "        self.state = new_state\n",
    "\n",
    "        if is_done:\n",
    "            Actions.Nothing()\n",
    "            done_reward = self.total_rewards\n",
    "            # print(\"reward:%.2f\" % (done_reward), end='\\r')\n",
    "\n",
    "        return done_reward\n",
    "\n",
    "    def cal_loss(self, batch, net, tgt_net, device=\"cuda\"):\n",
    "        state, action, reward, done, next_state = batch\n",
    "\n",
    "        state_v = state.to(device)\n",
    "        action_v = torch.tensor(action, dtype=torch.int64).to(device)\n",
    "        reward_v = torch.tensor(reward).to(device)\n",
    "        next_state_v = next_state.to(device)\n",
    "\n",
    "        # state_action_value = (\n",
    "        #     net(state_v).gather(\n",
    "        #         1, action_v.unsqueeze(-1).type(torch.long)).squeeze(-1)\n",
    "        # )\n",
    "        state_action_value = (net(state_v).gather(\n",
    "            1, action_v.unsqueeze(-1))).squeeze(-1)\n",
    "\n",
    "        with torch.no_grad():\n",
    "            argmax_a = net(next_state_v).argmax(dim=1).unsqueeze(-1)\n",
    "            next_state_value = tgt_net(\n",
    "                next_state_v).gather(1, argmax_a).squeeze(1)\n",
    "            # next_state_value = tgt_net(next_state_v).max(1)[0]\n",
    "            next_state_value[done] = 0.0\n",
    "        expected_state_action = next_state_value * GAMMA + reward_v\n",
    "\n",
    "        return self.criterion(state_action_value, expected_state_action)\n",
    "\n",
    "    def optimize_model(self, idx):\n",
    "        if buffer.__len__() < BATCH_SIZE:\n",
    "            return\n",
    "        batch = buffer.sample(BATCH_SIZE)\n",
    "        loss_t = self.cal_loss(batch, net, tgt_net)\n",
    "        writer.add_scalar(\"loss\", loss_t, idx)\n",
    "\n",
    "        optimizer.zero_grad()\n",
    "        loss_t.backward()\n",
    "        torch.nn.utils.clip_grad_value_(net.parameters(), 10)\n",
    "        optimizer.step()\n",
    "\n",
    "        # sync the tgt_net\n",
    "        if idx % 100 == 0:\n",
    "            print('sync', end='\\r')\n",
    "            tgt_net.load_state_dict(net.state_dict())"
   ]
  },
  {
   "cell_type": "code",
   "execution_count": 8,
   "metadata": {},
   "outputs": [],
   "source": [
    "win = pygetwindow.getWindowsWithTitle('Dead Cells')[0]\n",
    "win.size = (500, 500*1080/1920)\n"
   ]
  },
  {
   "cell_type": "code",
   "execution_count": 9,
   "metadata": {},
   "outputs": [],
   "source": [
    "agent = Agent(buffer)\n",
    "agent.get_screen.show()\n",
    "best_mean_reward = None"
   ]
  },
  {
   "cell_type": "code",
   "execution_count": 11,
   "metadata": {},
   "outputs": [
    {
     "name": "stdout",
     "output_type": "stream",
     "text": [
      "syncuffer:10000,frame:24538 game:45, mean reward: -290.159, eps:0.12,frame/sec:4.75\r"
     ]
    },
    {
     "ename": "KeyboardInterrupt",
     "evalue": "",
     "output_type": "error",
     "traceback": [
      "\u001b[1;31m---------------------------------------------------------------------------\u001b[0m",
      "\u001b[1;31mKeyboardInterrupt\u001b[0m                         Traceback (most recent call last)",
      "Cell \u001b[1;32mIn[11], line 28\u001b[0m\n\u001b[0;32m     26\u001b[0m \u001b[38;5;28;01mfor\u001b[39;00m idx \u001b[38;5;129;01min\u001b[39;00m \u001b[38;5;28mrange\u001b[39m(preframe_idx, frame_idx):\n\u001b[0;32m     27\u001b[0m     agent\u001b[38;5;241m.\u001b[39moptimize_model(idx)\n\u001b[1;32m---> 28\u001b[0m \u001b[43mtime\u001b[49m\u001b[38;5;241;43m.\u001b[39;49m\u001b[43msleep\u001b[49m\u001b[43m(\u001b[49m\u001b[38;5;241;43m4\u001b[39;49m\u001b[43m)\u001b[49m\n\u001b[0;32m     29\u001b[0m time_start \u001b[38;5;241m=\u001b[39m time\u001b[38;5;241m.\u001b[39mtime()\n\u001b[0;32m     30\u001b[0m preframe_idx \u001b[38;5;241m=\u001b[39m frame_idx\n",
      "\u001b[1;31mKeyboardInterrupt\u001b[0m: "
     ]
    }
   ],
   "source": [
    "\n",
    "done_reward = None\n",
    "\n",
    "\n",
    "# numbers of game\n",
    "time_start = time.time()\n",
    "agent._reset()\n",
    "\n",
    "while best_mean_reward is None or best_mean_reward < 50:\n",
    "    frame_idx += 1\n",
    "    epsilon = EPS_END + (EPS_START-EPS_END) * \\\n",
    "        math.exp(-1. * frame_idx / EPS_DECAY)\n",
    "\n",
    "    if done_reward is not None:\n",
    "        # one loop ends\n",
    "        # avoid Deadcells break\n",
    "        if done_reward == 100:\n",
    "            break\n",
    "\n",
    "        total_rewards.append(done_reward)\n",
    "        mean_reward = np.mean(total_rewards[-100:])\n",
    "\n",
    "        print(\n",
    "            \"lenbuffer:%d,frame:%d game:%d, mean reward: %.3f, eps:%.2f,frame/sec:%.2f\"\n",
    "            % (len(buffer), frame_idx, len(total_rewards), mean_reward, epsilon, (frame_idx-preframe_idx)/(time.time()-time_start)), end='\\r'\n",
    "        )\n",
    "        for idx in range(preframe_idx, frame_idx):\n",
    "            agent.optimize_model(idx)\n",
    "        time.sleep(4)\n",
    "        time_start = time.time()\n",
    "        preframe_idx = frame_idx\n",
    "        #     print(x, end='\\r')\n",
    "        # print()\n",
    "        writer.add_scalar(\"epsilon\", epsilon, frame_idx)\n",
    "        writer.add_scalar(\"reward/reward_100\", mean_reward, frame_idx)\n",
    "        writer.add_scalar(\"reward/reward\", done_reward, frame_idx)\n",
    "\n",
    "        # save the data to backup checkpoint because sometime jupyter died\n",
    "        torch.save(net.state_dict(), \"./backup_checkpoint/best_model.pt\")\n",
    "        np.save(\"./backup_checkpoint/frame.npy\", frame_idx)\n",
    "        np.save(\"./backup_checkpoint/total_rewards.npy\", total_rewards)\n",
    "        # save buffer\n",
    "        with open(\"./backup_checkpoint/buffer.pickle\", \"wb\") as f:\n",
    "            pickle.dump(copy.deepcopy(buffer), f)\n",
    "\n",
    "        # save model\n",
    "        if best_mean_reward is None or best_mean_reward < mean_reward:\n",
    "            torch.save(net.state_dict(), \"./checkpoints/best_model.pt\")\n",
    "            np.save(\"./checkpoints/frame.npy\", frame_idx)\n",
    "            np.save(\"./checkpoints/total_rewards.npy\", total_rewards)\n",
    "            # save buffer\n",
    "            with open(\"./checkpoints/buffer.pickle\", \"wb\") as f:\n",
    "                pickle.dump(copy.deepcopy(buffer), f)\n",
    "            if best_mean_reward is not None:\n",
    "                print(\n",
    "                    \"Best mean reward updated %.3f -> %.3f, model saved\"\n",
    "                    % (best_mean_reward, mean_reward), end='\\r'\n",
    "                )\n",
    "            best_mean_reward = mean_reward\n",
    "\n",
    "        # reset game\n",
    "        agent._reset()\n",
    "\n",
    "        # if for some random reason that agent do not enter the boss region\n",
    "        if not agent.hpgetter.get_boss_hp():\n",
    "            time.sleep(1)\n",
    "            Actions.Move_Right()\n",
    "            time.sleep(8)\n",
    "            Actions.Nothing()\n",
    "            Actions.Move_Left()\n",
    "            time.sleep(5.5)\n",
    "            Actions.Nothing()\n",
    "            agent._reset()\n",
    "    # play a step\n",
    "    done_reward = agent.play_step(net, epsilon, device)\n",
    "\n",
    "\n",
    "writer.close()"
   ]
  },
  {
   "cell_type": "code",
   "execution_count": 12,
   "metadata": {},
   "outputs": [],
   "source": [
    "torch.save(net.state_dict(), \"./checkpoints/best_model.pt\")\n",
    "np.save(\"./checkpoints/frame.npy\", frame_idx)\n",
    "np.save(\"./checkpoints/total_rewards.npy\", total_rewards)\n",
    "with open(\"./checkpoints/buffer.pickle\", \"wb\") as f:\n",
    "    pickle.dump(copy.deepcopy(buffer), f)"
   ]
  },
  {
   "cell_type": "code",
   "execution_count": 11,
   "metadata": {},
   "outputs": [
    {
     "name": "stdout",
     "output_type": "stream",
     "text": [
      "lenbuffer:10000,frame:19495 game:71, mean reward: -260.071, eps:0.17,frame/sec:1.59\r"
     ]
    }
   ],
   "source": [
    "print(\n",
    "            \"lenbuffer:%d,frame:%d game:%d, mean reward: %.3f, eps:%.2f,frame/sec:%.2f\"\n",
    "            % (len(buffer), frame_idx, len(total_rewards), mean_reward, epsilon, (frame_idx-preframe_idx)/(time.time()-time_start)), end='\\r'\n",
    "        )"
   ]
  },
  {
   "cell_type": "code",
   "execution_count": 11,
   "metadata": {},
   "outputs": [],
   "source": [
    "writer.add_scalar(\"epsilon\", epsilon, frame_idx)\n",
    "writer.add_scalar(\"reward/reward_100\", mean_reward, frame_idx)\n",
    "writer.add_scalar(\"reward/reward\", done_reward, frame_idx)"
   ]
  }
 ],
 "metadata": {
  "kernelspec": {
   "display_name": "DQN",
   "language": "python",
   "name": "python3"
  },
  "language_info": {
   "codemirror_mode": {
    "name": "ipython",
    "version": 3
   },
   "file_extension": ".py",
   "mimetype": "text/x-python",
   "name": "python",
   "nbconvert_exporter": "python",
   "pygments_lexer": "ipython3",
   "version": "3.9.21"
  },
  "orig_nbformat": 4
 },
 "nbformat": 4,
 "nbformat_minor": 2
}
