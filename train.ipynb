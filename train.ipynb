{
 "cells": [
  {
   "cell_type": "code",
   "execution_count": 1,
   "metadata": {},
   "outputs": [
    {
     "name": "stdout",
     "output_type": "stream",
     "text": [
      "torch.Size([4, 270, 480])\n"
     ]
    }
   ],
   "source": [
    "from model import DQN\n",
    "import numpy as np\n",
    "import collections\n",
    "import torch\n",
    "import torch.nn as nn\n",
    "import torch.optim as optim\n",
    "from lib import GetScreen, Actions, env, GetHp\n",
    "import pickle\n",
    "import copy\n",
    "\n",
    "from tensorboardX import SummaryWriter\n",
    "import time\n",
    "import random\n",
    "import pickle\n",
    "\n",
    "import torch.backends.cudnn as cudnn\n",
    "\n",
    "cudnn.deterministic = True\n",
    "\n",
    "cudnn.benchmark = True\n",
    "torch.backends.cudnn.enabled = True\n",
    "\n",
    "\n",
    "\n"
   ]
  },
  {
   "cell_type": "code",
   "execution_count": 2,
   "metadata": {},
   "outputs": [],
   "source": [
    "GAMMA = 0.99\n",
    "MAX_EPISODE = int(input('play_turn:'))\n",
    "ESC = 0x1B\n",
    "\n",
    "epsilon_final = 0.02\n",
    "epsilon_decay_frame = 10**5\n",
    "replay_min_size = 10000\n",
    "batch_size = 32\n",
    "device = \"cuda\"\n",
    "epsilon_start = 1.0"
   ]
  },
  {
   "cell_type": "code",
   "execution_count": 3,
   "metadata": {},
   "outputs": [],
   "source": [
    "\n",
    "Experience = collections.namedtuple(\n",
    "    \"Experience\", field_names=[\"state\", \"action\", \"reward\", \"done\", \"new_state\"]\n",
    ")\n",
    "\n",
    "\n",
    "class ExperienceBuffer:\n",
    "    def __init__(self, capacity):\n",
    "        self.buffer = collections.deque(maxlen=capacity)\n",
    "\n",
    "    def __len__(self):\n",
    "        return len(self.buffer)\n",
    "\n",
    "    def append(self, experience):\n",
    "        self.buffer.append(experience)\n",
    "\n",
    "    def sample(self, batch_size):\n",
    "        indices = np.random.choice(len(self.buffer), batch_size, replace=False)\n",
    "        state, action, reward, dones, next_state = zip(\n",
    "            *[self.buffer[idx] for idx in indices]\n",
    "        )\n",
    "        return (\n",
    "            state,\n",
    "            np.array(action),\n",
    "            np.array(reward, dtype=np.float32),\n",
    "            np.array(dones, dtype=np.uint8),\n",
    "            next_state,\n",
    "        )\n",
    "\n"
   ]
  },
  {
   "cell_type": "code",
   "execution_count": 4,
   "metadata": {},
   "outputs": [],
   "source": [
    "# self.hp=15482\n",
    "# boss.hp=215249\n",
    "# 15 7 7\n",
    "class Agent:\n",
    "    def __init__(self, exp_buffer):\n",
    "        self.buffer = exp_buffer\n",
    "        self.get_screen = GetScreen.GetScreen()\n",
    "        self.total_rewards = 0.0\n",
    "        self.env = env.env()\n",
    "        self.hpgetter = GetHp.Hp_getter()\n",
    "        # self._reset()\n",
    "\n",
    "    def _reset(self):\n",
    "        self.state = self.env._reset()\n",
    "        self.total_rewards = 0.0\n",
    "        self.bosshp = self.hpgetter.get_boss_hp()\n",
    "        self.playerhp = self.hpgetter.get_self_hp()\n",
    "\n",
    "    def play_step(self, net, epsilon, device=\"cuda\"):\n",
    "        done_reward = None\n",
    "\n",
    "        if np.random.random() < epsilon:\n",
    "            action = random.randint(0, 6)\n",
    "\n",
    "        else:\n",
    "            q_val_v = net(self.state)\n",
    "            _, act_v = torch.max(q_val_v, dim=1)\n",
    "            action = int(act_v[0].item())\n",
    "\n",
    "        # Actions = [Attack,Shield, Roll, Jump, Move_Left, Move_Right, Nothing]\n",
    "        reward, is_done, self.playerhp, self.bosshp = self.env.step(\n",
    "            action, self.playerhp, self.bosshp\n",
    "        )\n",
    "        new_state=self.get_screen.grab()\n",
    "        self.total_rewards += reward\n",
    "\n",
    "        exp = Experience(self.state, action, reward, is_done, new_state)\n",
    "        self.buffer.append(exp)\n",
    "\n",
    "        self.state = new_state\n",
    "\n",
    "        if is_done:\n",
    "            Actions.Nothing()\n",
    "            done_reward = self.total_rewards\n",
    "            print(\"reward:%.2f\" % (done_reward))\n",
    "            time.sleep(11)\n",
    "\n",
    "        return done_reward\n",
    "\n",
    "    def cal_loss(self, batch, net, tgt_net, device=\"cuda\"):\n",
    "        state, action, reward, done, next_state = batch\n",
    "\n",
    "        state_v = torch.tensor(state).to(device)\n",
    "        next_state_v = torch.tensor(next_state).to(device)\n",
    "        action_v = torch.tensor(action).to(device)\n",
    "        reward_v = torch.tensor(reward).to(device)\n",
    "        done_mask = torch.ByteTensor(done).to(device)\n",
    "\n",
    "        state_action_value = (\n",
    "            net(state_v).gather(\n",
    "                1, action_v.unsqueeze(-1).type(torch.long)).squeeze(-1)\n",
    "        )\n",
    "\n",
    "        next_state_value = tgt_net(next_state_v).max(1)[0]\n",
    "        next_state_value[done_mask] = 0.0\n",
    "        next_state_value = next_state_value.detach()\n",
    "        expected_state_action = next_state_value * GAMMA + reward_v\n",
    "        return nn.MSELoss()(state_action_value, expected_state_action)"
   ]
  },
  {
   "cell_type": "code",
   "execution_count": 5,
   "metadata": {},
   "outputs": [
    {
     "name": "stdout",
     "output_type": "stream",
     "text": [
      "new model\n"
     ]
    },
    {
     "name": "stderr",
     "output_type": "stream",
     "text": [
      "C:\\Users\\64698\\AppData\\Local\\Temp\\ipykernel_17324\\3464269769.py:5: FutureWarning: You are using `torch.load` with `weights_only=False` (the current default value), which uses the default pickle module implicitly. It is possible to construct malicious pickle data which will execute arbitrary code during unpickling (See https://github.com/pytorch/pytorch/blob/main/SECURITY.md#untrusted-models for more details). In a future release, the default value for `weights_only` will be flipped to `True`. This limits the functions that could be executed during unpickling. Arbitrary objects will no longer be allowed to be loaded via this mode unless they are explicitly allowlisted by the user via `torch.serialization.add_safe_globals`. We recommend you start setting `weights_only=True` for any use case where you don't have full control of the loaded file. Please open an issue on GitHub for any issues related to this experimental feature.\n",
      "  net.load_state_dict(torch.load(\"./checkpoints/best_model.pt\"))\n"
     ]
    }
   ],
   "source": [
    "net = DQN(7).to(device)\n",
    "tgt_net = DQN(7).to(device)\n",
    "# load the model\n",
    "try:\n",
    "    net.load_state_dict(torch.load(\"./checkpoints/best_model.pt\"))\n",
    "    frame_idx = np.load(\"./checkpoints/frame.npy\")\n",
    "    tgt_net.load_state_dict(net.state_dict())\n",
    "    print(frame_idx)\n",
    "    print(\"load model\")\n",
    "except:\n",
    "    # if not, set epsilon\n",
    "    frame_idx = 0\n",
    "    print(\"new model\")\n",
    "\n",
    "optimizer = optim.Adam(net.parameters(), lr=0.001)\n",
    "\n",
    "writer = SummaryWriter(comment=\"deadcells\")\n",
    "\n"
   ]
  },
  {
   "cell_type": "code",
   "execution_count": 6,
   "metadata": {},
   "outputs": [
    {
     "name": "stdout",
     "output_type": "stream",
     "text": [
      "new buffer\n"
     ]
    }
   ],
   "source": [
    "# try to load the before buffer\n",
    "try:\n",
    "    with open(\"./checkpoints/buffer.pickle\", \"rb\") as f:\n",
    "        buffer = pickle.load(f)\n",
    "    print(\"load buffer\")\n",
    "except:\n",
    "    buffer = ExperienceBuffer(capacity=400)\n",
    "    print(\"new buffer\")\n"
   ]
  },
  {
   "cell_type": "code",
   "execution_count": 7,
   "metadata": {},
   "outputs": [
    {
     "name": "stdout",
     "output_type": "stream",
     "text": [
      "You already created a DXCamera Instance for Device 0--Output 0!\n",
      "Returning the existed instance...\n",
      "To change capture parameters you can manually delete the old object using `del obj`.\n"
     ]
    }
   ],
   "source": [
    "agent = Agent(buffer)\n",
    "total_rewards = []\n",
    "best_mean_reward = None\n",
    "\n",
    "reward = None"
   ]
  },
  {
   "cell_type": "code",
   "execution_count": 8,
   "metadata": {},
   "outputs": [
    {
     "name": "stdout",
     "output_type": "stream",
     "text": [
      "reward:-32.57\n",
      "629:done 1:game, mean reward: -32.571, eps:0.99\n",
      "reward:-39.81\n",
      "1311:done 2:game, mean reward: -36.193, eps:0.99\n",
      "reward:-44.22\n",
      "2051:done 3:game, mean reward: -38.870, eps:0.98\n",
      "reward:-45.24\n",
      "2490:done 4:game, mean reward: -40.463, eps:0.98\n"
     ]
    },
    {
     "ename": "KeyboardInterrupt",
     "evalue": "",
     "output_type": "error",
     "traceback": [
      "\u001b[1;31m---------------------------------------------------------------------------\u001b[0m",
      "\u001b[1;31mKeyboardInterrupt\u001b[0m                         Traceback (most recent call last)",
      "Cell \u001b[1;32mIn[8], line 45\u001b[0m\n\u001b[0;32m     42\u001b[0m     best_mean_reward \u001b[38;5;241m=\u001b[39m mean_reward\n\u001b[0;32m     43\u001b[0m \u001b[38;5;66;03m# reset game\u001b[39;00m\n\u001b[1;32m---> 45\u001b[0m \u001b[43magent\u001b[49m\u001b[38;5;241;43m.\u001b[39;49m\u001b[43m_reset\u001b[49m\u001b[43m(\u001b[49m\u001b[43m)\u001b[49m\n\u001b[0;32m     47\u001b[0m np\u001b[38;5;241m.\u001b[39msave(\u001b[38;5;124m\"\u001b[39m\u001b[38;5;124m./checkpoints/frame.npy\u001b[39m\u001b[38;5;124m\"\u001b[39m, frame_idx)\n\u001b[0;32m     48\u001b[0m \u001b[38;5;28;01mif\u001b[39;00m frame_idx \u001b[38;5;241m%\u001b[39m \u001b[38;5;241m10000\u001b[39m \u001b[38;5;241m==\u001b[39m \u001b[38;5;241m0\u001b[39m:\n",
      "Cell \u001b[1;32mIn[4], line 14\u001b[0m, in \u001b[0;36mAgent._reset\u001b[1;34m(self)\u001b[0m\n\u001b[0;32m     13\u001b[0m \u001b[38;5;28;01mdef\u001b[39;00m \u001b[38;5;21m_reset\u001b[39m(\u001b[38;5;28mself\u001b[39m):\n\u001b[1;32m---> 14\u001b[0m     \u001b[38;5;28mself\u001b[39m\u001b[38;5;241m.\u001b[39mstate \u001b[38;5;241m=\u001b[39m \u001b[38;5;28;43mself\u001b[39;49m\u001b[38;5;241;43m.\u001b[39;49m\u001b[43menv\u001b[49m\u001b[38;5;241;43m.\u001b[39;49m\u001b[43m_reset\u001b[49m\u001b[43m(\u001b[49m\u001b[43m)\u001b[49m\n\u001b[0;32m     15\u001b[0m     \u001b[38;5;28mself\u001b[39m\u001b[38;5;241m.\u001b[39mtotal_rewards \u001b[38;5;241m=\u001b[39m \u001b[38;5;241m0.0\u001b[39m\n\u001b[0;32m     16\u001b[0m     \u001b[38;5;28mself\u001b[39m\u001b[38;5;241m.\u001b[39mbosshp \u001b[38;5;241m=\u001b[39m \u001b[38;5;28mself\u001b[39m\u001b[38;5;241m.\u001b[39mhpgetter\u001b[38;5;241m.\u001b[39mget_boss_hp()\n",
      "File \u001b[1;32md:\\Ai_test\\Reinforcement_Learning\\DQN_deadcells\\lib\\env.py:31\u001b[0m, in \u001b[0;36menv._reset\u001b[1;34m(self)\u001b[0m\n\u001b[0;32m     29\u001b[0m time\u001b[38;5;241m.\u001b[39msleep(\u001b[38;5;241m0.1\u001b[39m)\n\u001b[0;32m     30\u001b[0m ReleaseKey(R)\n\u001b[1;32m---> 31\u001b[0m \u001b[43mtime\u001b[49m\u001b[38;5;241;43m.\u001b[39;49m\u001b[43msleep\u001b[49m\u001b[43m(\u001b[49m\u001b[38;5;241;43m10\u001b[39;49m\u001b[43m)\u001b[49m\n\u001b[0;32m     32\u001b[0m Actions\u001b[38;5;241m.\u001b[39mMove_Right()\n\u001b[0;32m     33\u001b[0m time\u001b[38;5;241m.\u001b[39msleep(\u001b[38;5;241m8\u001b[39m)\n",
      "\u001b[1;31mKeyboardInterrupt\u001b[0m: "
     ]
    }
   ],
   "source": [
    "\n",
    "\n",
    "\n",
    "# numbers of game\n",
    "time_start=time.time()\n",
    "agent._reset()\n",
    "\n",
    "while len(total_rewards) < MAX_EPISODE:\n",
    "    frame_idx += 1\n",
    "    epsilon = max(epsilon_final, epsilon_start - frame_idx / epsilon_decay_frame)\n",
    "\n",
    "    if reward is not None:\n",
    "        # one loop ends\n",
    "        # if something goes wrong, break\n",
    "        if reward==0.0:\n",
    "            break\n",
    "        # optimize\n",
    "        if len(buffer) > replay_min_size and frame_idx% 8 == 0:\n",
    "            optimizer.zero_grad()\n",
    "            batch = buffer.sample(batch_size)\n",
    "            loss_t = agent.cal_loss(batch, net, tgt_net)\n",
    "            loss_t.backward()\n",
    "            optimizer.step()\n",
    "            time.sleep(10)\n",
    "\n",
    "        total_rewards.append(reward)\n",
    "        mean_reward = np.mean(total_rewards[-100:])\n",
    "        print(\n",
    "            \"%d:done %d:game, mean reward: %.3f, eps:%.2f\"\n",
    "            % (frame_idx, len(total_rewards), mean_reward, epsilon)\n",
    "        )\n",
    "        writer.add_scalar(\"epsilon\", epsilon, frame_idx)\n",
    "        writer.add_scalar(\"reward_100\", mean_reward, frame_idx)\n",
    "        writer.add_scalar(\"reward\", reward, frame_idx)\n",
    "\n",
    "        # save model\n",
    "        if best_mean_reward is None or best_mean_reward < mean_reward:\n",
    "            torch.save(net.state_dict(), \"./checkpoints/best_model.pt\")\n",
    "\n",
    "            if best_mean_reward is not None:\n",
    "                print(\n",
    "                    \"Best mean reward updated %.3f -> %.3f, model saved\"\n",
    "                    % (best_mean_reward, mean_reward)\n",
    "                )\n",
    "            best_mean_reward = mean_reward\n",
    "        # reset game\n",
    "\n",
    "        agent._reset()\n",
    "\n",
    "        np.save(\"./checkpoints/frame.npy\", frame_idx)\n",
    "        if frame_idx % 10000 == 0:\n",
    "            tgt_net.load_state_dict(net.state_dict())\n",
    "\n",
    "        # save buffer\n",
    "        with open(\"./checkpoints/buffer.pickle\", \"wb\") as f:\n",
    "            pickle.dump(copy.deepcopy(buffer), f)\n",
    "\n",
    "    # step between copy the net to tgt_net\n",
    "    reward = agent.play_step(net, epsilon, device)\n",
    "\n",
    "\n",
    "writer.close()\n",
    "print(time.localtime())\n",
    "print((time.time()-time_start)/60)"
   ]
  },
  {
   "cell_type": "code",
   "execution_count": 38,
   "metadata": {},
   "outputs": [
    {
     "ename": "error",
     "evalue": "OpenCV(4.10.0) D:\\a\\opencv-python\\opencv-python\\opencv\\modules\\imgproc\\src\\color.cpp:196: error: (-215:Assertion failed) !_src.empty() in function 'cv::cvtColor'\n",
     "output_type": "error",
     "traceback": [
      "\u001b[1;31m---------------------------------------------------------------------------\u001b[0m",
      "\u001b[1;31merror\u001b[0m                                     Traceback (most recent call last)",
      "Cell \u001b[1;32mIn[38], line 1\u001b[0m\n\u001b[1;32m----> 1\u001b[0m \u001b[43magent\u001b[49m\u001b[38;5;241;43m.\u001b[39;49m\u001b[43mplay_step\u001b[49m\u001b[43m(\u001b[49m\u001b[43mnet\u001b[49m\u001b[43m,\u001b[49m\u001b[43m \u001b[49m\u001b[43mepsilon\u001b[49m\u001b[43m,\u001b[49m\u001b[43m \u001b[49m\u001b[43mdevice\u001b[49m\u001b[43m)\u001b[49m\n",
      "Cell \u001b[1;32mIn[4], line 34\u001b[0m, in \u001b[0;36mAgent.play_step\u001b[1;34m(self, net, epsilon, device)\u001b[0m\n\u001b[0;32m     30\u001b[0m \u001b[38;5;66;03m# Actions = [Attack,Shield, Roll, Jump, Move_Left, Move_Right, Nothing]\u001b[39;00m\n\u001b[0;32m     31\u001b[0m reward, is_done, \u001b[38;5;28mself\u001b[39m\u001b[38;5;241m.\u001b[39mplayerhp, \u001b[38;5;28mself\u001b[39m\u001b[38;5;241m.\u001b[39mbosshp \u001b[38;5;241m=\u001b[39m \u001b[38;5;28mself\u001b[39m\u001b[38;5;241m.\u001b[39menv\u001b[38;5;241m.\u001b[39mstep(\n\u001b[0;32m     32\u001b[0m     action, \u001b[38;5;28mself\u001b[39m\u001b[38;5;241m.\u001b[39mplayerhp, \u001b[38;5;28mself\u001b[39m\u001b[38;5;241m.\u001b[39mbosshp\n\u001b[0;32m     33\u001b[0m )\n\u001b[1;32m---> 34\u001b[0m new_state\u001b[38;5;241m=\u001b[39m\u001b[38;5;28;43mself\u001b[39;49m\u001b[38;5;241;43m.\u001b[39;49m\u001b[43mget_screen\u001b[49m\u001b[38;5;241;43m.\u001b[39;49m\u001b[43mgrab\u001b[49m\u001b[43m(\u001b[49m\u001b[43m)\u001b[49m\n\u001b[0;32m     35\u001b[0m \u001b[38;5;28mself\u001b[39m\u001b[38;5;241m.\u001b[39mtotal_rewards \u001b[38;5;241m+\u001b[39m\u001b[38;5;241m=\u001b[39m reward\n\u001b[0;32m     37\u001b[0m exp \u001b[38;5;241m=\u001b[39m Experience(\u001b[38;5;28mself\u001b[39m\u001b[38;5;241m.\u001b[39mstate, action, reward, is_done, new_state)\n",
      "File \u001b[1;32md:\\Ai_test\\Reinforcement_Learning\\DQN_deadcells\\lib\\GetScreen.py:23\u001b[0m, in \u001b[0;36mGetScreen.grab\u001b[1;34m(self)\u001b[0m\n\u001b[0;32m     20\u001b[0m \u001b[38;5;28;01mwhile\u001b[39;00m \u001b[38;5;28mlen\u001b[39m(frames)\u001b[38;5;241m<\u001b[39m\u001b[38;5;241m4\u001b[39m:\n\u001b[0;32m     22\u001b[0m     IMG\u001b[38;5;241m=\u001b[39m \u001b[38;5;28mself\u001b[39m\u001b[38;5;241m.\u001b[39mcam\u001b[38;5;241m.\u001b[39mgrab(region\u001b[38;5;241m=\u001b[39m\u001b[38;5;28mself\u001b[39m\u001b[38;5;241m.\u001b[39mregion)\n\u001b[1;32m---> 23\u001b[0m     IMG\u001b[38;5;241m=\u001b[39m\u001b[43mcv2\u001b[49m\u001b[38;5;241;43m.\u001b[39;49m\u001b[43mcvtColor\u001b[49m\u001b[43m(\u001b[49m\u001b[43mIMG\u001b[49m\u001b[43m,\u001b[49m\u001b[43m \u001b[49m\u001b[43mcv2\u001b[49m\u001b[38;5;241;43m.\u001b[39;49m\u001b[43mCOLOR_BGR2GRAY\u001b[49m\u001b[43m)\u001b[49m\n\u001b[0;32m     24\u001b[0m     IMG\u001b[38;5;241m=\u001b[39mcv2\u001b[38;5;241m.\u001b[39mresize(IMG,(\u001b[38;5;241m480\u001b[39m,\u001b[38;5;241m270\u001b[39m))\n\u001b[0;32m     25\u001b[0m     frames\u001b[38;5;241m.\u001b[39mappend(torch\u001b[38;5;241m.\u001b[39msqueeze(\u001b[38;5;28mself\u001b[39m\u001b[38;5;241m.\u001b[39mtransform(IMG)))\n",
      "\u001b[1;31merror\u001b[0m: OpenCV(4.10.0) D:\\a\\opencv-python\\opencv-python\\opencv\\modules\\imgproc\\src\\color.cpp:196: error: (-215:Assertion failed) !_src.empty() in function 'cv::cvtColor'\n"
     ]
    }
   ],
   "source": [
    "agent.play_step(net, epsilon, device)"
   ]
  }
 ],
 "metadata": {
  "kernelspec": {
   "display_name": "DQN",
   "language": "python",
   "name": "python3"
  },
  "language_info": {
   "codemirror_mode": {
    "name": "ipython",
    "version": 3
   },
   "file_extension": ".py",
   "mimetype": "text/x-python",
   "name": "python",
   "nbconvert_exporter": "python",
   "pygments_lexer": "ipython3",
   "version": "3.9.21"
  },
  "orig_nbformat": 4
 },
 "nbformat": 4,
 "nbformat_minor": 2
}
