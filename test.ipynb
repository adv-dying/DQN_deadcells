{
 "cells": [
  {
   "cell_type": "code",
   "execution_count": 3,
   "metadata": {},
   "outputs": [],
   "source": [
    "import numpy as np\n",
    "np.save(\"./checkpoints/frame.npy\", 1000)"
   ]
  },
  {
   "cell_type": "code",
   "execution_count": null,
   "metadata": {},
   "outputs": [],
   "source": [
    "from model import DQN\n",
    "import torch\n",
    "net=DQN(7)\n",
    "torch.save(net.state_dict(), \"./checkpoints/best_model.pt\")\n",
    "\n",
    "\n"
   ]
  },
  {
   "cell_type": "code",
   "execution_count": 3,
   "metadata": {},
   "outputs": [
    {
     "data": {
      "text/plain": [
       "<All keys matched successfully>"
      ]
     },
     "execution_count": 3,
     "metadata": {},
     "output_type": "execute_result"
    }
   ],
   "source": [
    "net.load_state_dict(torch.load(\"./checkpoints/best_model.pt\"))"
   ]
  },
  {
   "cell_type": "code",
   "execution_count": 5,
   "metadata": {},
   "outputs": [
    {
     "name": "stdout",
     "output_type": "stream",
     "text": [
      "136\n"
     ]
    }
   ],
   "source": [
    " \n",
    "frame_idx = np.load(\"./checkpoints/frame.npy\")\n",
    "print(frame_idx)"
   ]
  },
  {
   "cell_type": "code",
   "execution_count": 1,
   "metadata": {},
   "outputs": [],
   "source": [
    "from lib import GetScreen\n",
    "import time \n",
    "a=GetScreen.GetScreen()  \n"
   ]
  },
  {
   "cell_type": "code",
   "execution_count": 2,
   "metadata": {},
   "outputs": [
    {
     "data": {
      "text/plain": [
       "array([[[0.38431373, 0.38431373, 0.3882353 , ..., 0.57254905,\n",
       "         0.57254905, 0.57254905],\n",
       "        [0.38431373, 0.38431373, 0.3882353 , ..., 0.27450982,\n",
       "         0.3529412 , 0.5764706 ],\n",
       "        [0.38431373, 0.38431373, 0.3882353 , ..., 0.1764706 ,\n",
       "         0.27450982, 0.5686275 ],\n",
       "        ...,\n",
       "        [0.09019608, 0.09019608, 0.08627451, ..., 0.4       ,\n",
       "         0.4       , 0.39607844],\n",
       "        [0.09019608, 0.09411765, 0.09803922, ..., 0.39215687,\n",
       "         0.39215687, 0.3882353 ],\n",
       "        [0.10196079, 0.10980392, 0.10980392, ..., 0.39607844,\n",
       "         0.39607844, 0.39607844]],\n",
       "\n",
       "       [[0.10196079, 0.10196079, 0.10196079, ..., 0.3529412 ,\n",
       "         0.35686275, 0.35686275],\n",
       "        [0.10196079, 0.10196079, 0.10196079, ..., 0.19607843,\n",
       "         0.23921569, 0.36078432],\n",
       "        [0.10196079, 0.10196079, 0.10196079, ..., 0.14117648,\n",
       "         0.19607843, 0.3529412 ],\n",
       "        ...,\n",
       "        [0.11764706, 0.11764706, 0.11764706, ..., 0.09803922,\n",
       "         0.09803922, 0.09803922],\n",
       "        [0.11764706, 0.12156863, 0.12156863, ..., 0.09411765,\n",
       "         0.09411765, 0.09411765],\n",
       "        [0.1254902 , 0.13333334, 0.13333334, ..., 0.10196079,\n",
       "         0.10196079, 0.10196079]],\n",
       "\n",
       "       [[0.2       , 0.2       , 0.20392157, ..., 0.23921569,\n",
       "         0.23921569, 0.23529412],\n",
       "        [0.2       , 0.20392157, 0.20392157, ..., 0.14901961,\n",
       "         0.17254902, 0.23529412],\n",
       "        [0.2       , 0.20392157, 0.20392157, ..., 0.12156863,\n",
       "         0.14901961, 0.23529412],\n",
       "        ...,\n",
       "        [0.14117648, 0.14117648, 0.14117648, ..., 0.12941177,\n",
       "         0.12941177, 0.12941177],\n",
       "        [0.14117648, 0.14117648, 0.14117648, ..., 0.12941177,\n",
       "         0.12941177, 0.12941177],\n",
       "        [0.14509805, 0.14901961, 0.14901961, ..., 0.12941177,\n",
       "         0.12941177, 0.12941177]]], dtype=float32)"
      ]
     },
     "execution_count": 2,
     "metadata": {},
     "output_type": "execute_result"
    }
   ],
   "source": [
    "time.sleep(5)\n",
    "a.grab()"
   ]
  },
  {
   "cell_type": "code",
   "execution_count": 4,
   "metadata": {},
   "outputs": [
    {
     "data": {
      "text/plain": [
       "100"
      ]
     },
     "execution_count": 4,
     "metadata": {},
     "output_type": "execute_result"
    }
   ],
   "source": [
    "from lib import GetHp\n",
    "\n",
    "a=GetHp.Hp_getter()\n",
    "a.get_self_hp()"
   ]
  },
  {
   "cell_type": "code",
   "execution_count": 7,
   "metadata": {},
   "outputs": [],
   "source": [
    "\n",
    "\n"
   ]
  }
 ],
 "metadata": {
  "kernelspec": {
   "display_name": "pytorch",
   "language": "python",
   "name": "python3"
  },
  "language_info": {
   "codemirror_mode": {
    "name": "ipython",
    "version": 3
   },
   "file_extension": ".py",
   "mimetype": "text/x-python",
   "name": "python",
   "nbconvert_exporter": "python",
   "pygments_lexer": "ipython3",
   "version": "3.9.17"
  },
  "orig_nbformat": 4
 },
 "nbformat": 4,
 "nbformat_minor": 2
}
