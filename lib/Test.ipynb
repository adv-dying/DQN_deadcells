{
 "cells": [
  {
   "cell_type": "code",
   "execution_count": 1,
   "metadata": {},
   "outputs": [],
   "source": [
    "import win32gui\n",
    "import win32api\n",
    "import win32process\n",
    "import ctypes\n",
    "\n",
    "Psapi = ctypes.WinDLL('Psapi.dll')\n",
    "Kernel32 = ctypes.WinDLL('kernel32.dll')\n",
    "PROCESS_QUERY_INFORMATION = 0x0400\n",
    "PROCESS_VM_READ = 0x0010\n",
    "\n",
    "# 通过进程ID获取【进程名称】 列：weixin.exe\n",
    "hd = win32gui.FindWindow(None, \"Dead Cells\")\n",
    "pid = win32process.GetWindowThreadProcessId(hd)[1]"
   ]
  },
  {
   "cell_type": "code",
   "execution_count": 2,
   "metadata": {},
   "outputs": [
    {
     "name": "stdout",
     "output_type": "stream",
     "text": [
      "6072\n"
     ]
    }
   ],
   "source": [
    "print(pid)"
   ]
  },
  {
   "cell_type": "code",
   "execution_count": 1,
   "metadata": {},
   "outputs": [
    {
     "name": "stdout",
     "output_type": "stream",
     "text": [
      "Actual value - 20\n",
      "Memory address -  2109342837648\n",
      "Value -  20\n"
     ]
    }
   ],
   "source": [
    "#import ctypes\n",
    "import ctypes\n",
    "\n",
    "# variable declaration\n",
    "val = 20\n",
    "\n",
    "# display variable\n",
    "print(\"Actual value -\", val)\n",
    "\n",
    "# get the memory address of the python object\n",
    "# for variable\n",
    "x = id(val)\n",
    "\n",
    "# display memory address\n",
    "print(\"Memory address - \", x)\n",
    "\n",
    "# get the value through memory address\n",
    "a = ctypes.cast(x, ctypes.py_object).value\n",
    "\n",
    "# display\n",
    "print(\"Value - \", a)\n"
   ]
  }
 ],
 "metadata": {
  "kernelspec": {
   "display_name": "pytorch",
   "language": "python",
   "name": "python3"
  },
  "language_info": {
   "codemirror_mode": {
    "name": "ipython",
    "version": 3
   },
   "file_extension": ".py",
   "mimetype": "text/x-python",
   "name": "python",
   "nbconvert_exporter": "python",
   "pygments_lexer": "ipython3",
   "version": "3.9.17"
  },
  "orig_nbformat": 4
 },
 "nbformat": 4,
 "nbformat_minor": 2
}
